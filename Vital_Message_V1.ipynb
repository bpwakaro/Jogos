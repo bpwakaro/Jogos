{
  "nbformat": 4,
  "nbformat_minor": 0,
  "metadata": {
    "colab": {
      "provenance": [],
      "authorship_tag": "ABX9TyO5QbvHPjlF+UIGqZ2YfRkz",
      "include_colab_link": true
    },
    "kernelspec": {
      "name": "python3",
      "display_name": "Python 3"
    },
    "language_info": {
      "name": "python"
    }
  },
  "cells": [
    {
      "cell_type": "markdown",
      "metadata": {
        "id": "view-in-github",
        "colab_type": "text"
      },
      "source": [
        "<a href=\"https://colab.research.google.com/github/bpwakaro/Jogos/blob/main/Vital_Message_V1.ipynb\" target=\"_parent\"><img src=\"https://colab.research.google.com/assets/colab-badge.svg\" alt=\"Open In Colab\"/></a>"
      ]
    },
    {
      "cell_type": "code",
      "execution_count": null,
      "metadata": {
        "colab": {
          "base_uri": "https://localhost:8080/"
        },
        "id": "vEvOjQqUWPBa",
        "outputId": "a978f403-7550-477c-9cc5-f5f62294a44a"
      },
      "outputs": [
        {
          "output_type": "stream",
          "name": "stdout",
          "text": [
            "Vital Message\n",
            "\n",
            "Qual é a dificuldade (escolha de 4-10)?4\n",
            "Envie esta mensagem:\n",
            "\n",
            " QRBN\n",
            "QRBN\n",
            "Mensagem correta. \n",
            " A guerra terminou\n"
          ]
        }
      ],
      "source": [
        "import os\n",
        "import random\n",
        "import string\n",
        "import time\n",
        "\n",
        "os.system('cls||clear')\n",
        "\n",
        "print('Vital Message'\n",
        "      '\\n')\n",
        "\n",
        "while True:\n",
        "  D = int(input('Qual é a dificuldade (escolha de 4-10)?'))\n",
        "  if D >=4 and D <= 10:\n",
        "    break\n",
        "\n",
        "M = ''\n",
        "\n",
        "for i in range(D):\n",
        "  M += random.choice(string.ascii_uppercase)\n",
        "\n",
        "os.system('cls||clear')\n",
        "\n",
        "print('Envie esta mensagem:'\n",
        "      '\\n'\n",
        "      '\\n', M)\n",
        "\n",
        "time.sleep(0.5*D)\n",
        "\n",
        "os.system('cls||clear')\n",
        "\n",
        "N = input('')\n",
        "\n",
        "if N == M:\n",
        "  print('Mensagem correta. \\n A guerra terminou')\n",
        "\n",
        "else:\n",
        "  print('Você errou \\n Você deveria ter enviado a mensagem ', M)\n"
      ]
    }
  ]
}